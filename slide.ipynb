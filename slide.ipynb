{
 "cells": [
  {
   "cell_type": "code",
   "execution_count": 2,
   "metadata": {
    "slideshow": {
     "slide_type": "skip"
    }
   },
   "outputs": [
    {
     "data": {
      "text/html": [
       "<link rel=\"stylesheet\" type=\"text/css\" href=\"static/style.css\">"
      ],
      "text/plain": [
       "<IPython.core.display.HTML object>"
      ]
     },
     "metadata": {},
     "output_type": "display_data"
    }
   ],
   "source": [
    "%%HTML\n",
    "<link rel=\"stylesheet\" type=\"text/css\" href=\"static/style.css\">"
   ]
  },
  {
   "cell_type": "markdown",
   "metadata": {
    "slideshow": {
     "slide_type": "slide"
    }
   },
   "source": [
    "\n",
    "\n",
    "# Jubaclassifier Hands-on\n",
    "<center>\n",
    "<img src=\"img/jubatus.png\">\n",
    "    <li> 主に書籍の内容について、コードを実行しながら説明</li>\n",
    "    <li> データは書籍とは違うものを使います。</li>\n",
    "</center>\n",
    "\n",
    "\n"
   ]
  },
  {
   "cell_type": "markdown",
   "metadata": {
    "slideshow": {
     "slide_type": "slide"
    }
   },
   "source": [
    "## Agenda\n",
    "1. Jubatusとは\n",
    "1. 分類とは\n",
    "1. 実際に動かしてみる\n"
   ]
  },
  {
   "cell_type": "markdown",
   "metadata": {
    "slideshow": {
     "slide_type": "slide"
    }
   },
   "source": [
    "### 分類とは\n",
    "分類(Classifier)とは、与えられたデータに対して**適切なクラスを推定する処理**を指します。\n",
    "\n",
    "- スパムメール判定\n",
    "- 金融における顧客のデフォルト(不払い)予測\n",
    "- etc ...\n"
   ]
  },
  {
   "cell_type": "markdown",
   "metadata": {
    "slideshow": {
     "slide_type": "subslide"
    }
   },
   "source": [
    "### 分類のイメージ\n",
    "Harry Potterの組み分け帽を例にとる\n",
    "<center>\n",
    "    <img src=\"img/intro.png\" width=\"60%\">\n",
    "</center>"
   ]
  },
  {
   "cell_type": "markdown",
   "metadata": {
    "slideshow": {
     "slide_type": "subslide"
    }
   },
   "source": [
    "## 線形分類器 VS 非線形分類器\n",
    "- 線形分類器 : 空間を**直線/平面**で区切っていく\n",
    "    - シンプルで早いが、どうしても分けられない場合も出てくる\n",
    "- 非線形分類器 : 空間を**曲線/曲面**で区切っていく\n",
    "    - 精度はいいが、**過学習**の恐れあり\n",
    "    \n",
    "<center>\n",
    "    <img src=\"img/linear_nonlinear.png\">\n",
    "</center>"
   ]
  },
  {
   "cell_type": "markdown",
   "metadata": {
    "slideshow": {
     "slide_type": "slide"
    }
   },
   "source": [
    "## 実際に動かしてみる"
   ]
  },
  {
   "cell_type": "markdown",
   "metadata": {
    "slideshow": {
     "slide_type": "slide"
    }
   },
   "source": [
    "### 環境\n",
    "VMで配った環境に、以下のものが入っているか確認してください。\n",
    "\n",
    "- Jubatus\n",
    "- Python(3.x)\n",
    "    - Jubatus\n",
    "    - sklearn\n",
    "    - numpy\n",
    "    - pandas\n",
    "    - matplotlib\n"
   ]
  },
  {
   "cell_type": "markdown",
   "metadata": {
    "slideshow": {
     "slide_type": "subslide"
    }
   },
   "source": [
    "### 配布物\n",
    "下記のものがフォルダ内にあるか確認してください。\n",
    "- スクリプト(Python Notebookで配布します)\n",
    "    - `classifier.ipynb`\n",
    "- データ(data/配下)\n",
    "    - `default_train.csv`\n",
    "    - `default_test.csv`\n",
    "- コンフィグファイル(config/配下)\n",
    "    - `linear.json` (AROW)\n",
    "    - `nonlinear.json` (NN/Euclid LSH)"
   ]
  },
  {
   "cell_type": "markdown",
   "metadata": {
    "slideshow": {
     "slide_type": "slide"
    }
   },
   "source": [
    "### 今回扱うデータ\n",
    "**default of credit card clients Data Set**\n",
    "\n",
    "- 台湾の顧客に対し支払いの**不払い(デフォルト)があったかどうか**を集めたデータ\n",
    "- 年齢や性別など、**23個の特徴量**で構成されている\n",
    "\n",
    "※本とは違うデータを用いています。前処理等で、コードが少し異なる箇所もありますが、流れは本のままです。"
   ]
  },
  {
   "cell_type": "markdown",
   "metadata": {
    "slideshow": {
     "slide_type": "subslide"
    }
   },
   "source": [
    "- `DEFAULT`に支払いが履行されたかどうかの情報が含まれている\n",
    "- `DEFAULT`を分類器の答え合わせ（正解ラベル)に用いる\n",
    "\n",
    "|列番|特徴量|概要|特徴量の型|\n",
    "|:--|:--|:--|:-|\n",
    "|X1|Amount of the given credit|信用貸付額|整数|\n",
    "|X2|Gender|性別|カテゴリ変数|\n",
    "|X3|Education|学歴|カテゴリ変数|\n",
    "|X4|Martial status|結婚歴|カテゴリ変数|\n",
    "|X5|Age|年齢|整数|\n",
    "|X6-X11|History of past payment|過去の支払い。きちんと支払ったかどうか(※1)|整数|\n",
    "|X12-X17|Amount of bill statememt|過去の請求額(※1)|整数|\n",
    "|X18-X23|Amount of previous payment|過去の支払額(※1)|整数|\n",
    "|Y|DEFAULT|デフォルトしたかどうか|カテゴリ変数（正解ラベル）|\n",
    "\n",
    "※1 2005年4月から2005年9月までの６ヶ月分のデータ"
   ]
  },
  {
   "cell_type": "markdown",
   "metadata": {
    "slideshow": {
     "slide_type": "subslide"
    }
   },
   "source": [
    "### Pandasを使ってデータを読み込んでみる"
   ]
  },
  {
   "cell_type": "code",
   "execution_count": null,
   "metadata": {
    "slideshow": {
     "slide_type": "fragment"
    }
   },
   "outputs": [],
   "source": [
    "import pandas as pd\n",
    "df = pd.read_csv(\"data/default_train.csv\") #データの読み込み\n",
    "print(df.head())"
   ]
  },
  {
   "cell_type": "markdown",
   "metadata": {
    "slideshow": {
     "slide_type": "slide"
    }
   },
   "source": [
    "## Jubatusを起動\n",
    "- ターミナルに戻り、下記コマンドを入力します\n",
    "- 線形分類器(AROW)を使ってみます\n",
    "\n",
    "<b>    \n",
    "    <center>\n",
    "          `$ jubaclassifier -f config/linear.json&`\n",
    "    </center>\n",
    "</b>"
   ]
  },
  {
   "cell_type": "markdown",
   "metadata": {
    "slideshow": {
     "slide_type": "subslide"
    }
   },
   "source": [
    "### Jubatus分類器に入っているアルゴリズム\n",
    "\n",
    "Jubatusでは、線形分類器と非線形分類器にそれぞれ下表のアルゴリズムを用意しています。\n",
    "<center>\n",
    "    <img src=\"img/algorithm.png\">\n",
    "</center>\n"
   ]
  },
  {
   "cell_type": "markdown",
   "metadata": {
    "slideshow": {
     "slide_type": "subslide"
    }
   },
   "source": [
    "\n",
    "### Regularization Weghtとは\n",
    "`Regularization_weight`が大⇛新しく入ってきたデータを何が何でも分類する\n",
    "<center>\n",
    "<img src=\"img/parameter_linear.png\" width=\"60%\">\n",
    "</center>"
   ]
  },
  {
   "cell_type": "markdown",
   "metadata": {
    "slideshow": {
     "slide_type": "slide"
    }
   },
   "source": [
    "## データの読み込み\n",
    "- **pandas**を用いてデータを読み込む\n",
    "- 特徴量ベクトル, ラベル, 特徴量の名前をcsvから出力"
   ]
  },
  {
   "cell_type": "code",
   "execution_count": null,
   "metadata": {
    "slideshow": {
     "slide_type": "fragment"
    }
   },
   "outputs": [],
   "source": [
    "def read_dataset(path):\n",
    "    df = pd.read_csv(path)\n",
    "    labels = df['Y'].tolist()\n",
    "    df = df.drop('Y', axis=1)\n",
    "    features = df.as_matrix().astype(float)\n",
    "    columns = df.columns.tolist()\n",
    "    return features, labels, columns\n",
    "\n",
    "features_train, labels_train, columns = read_dataset(\"data/default_train.csv\")"
   ]
  },
  {
   "cell_type": "code",
   "execution_count": null,
   "metadata": {
    "slideshow": {
     "slide_type": "subslide"
    }
   },
   "outputs": [],
   "source": [
    "print(\"columns : {}\".format(columns))\n",
    "print(\"features : {}\".format(features_train))"
   ]
  },
  {
   "cell_type": "markdown",
   "metadata": {
    "slideshow": {
     "slide_type": "slide"
    }
   },
   "source": [
    "## 学習用データをDatum形式に変換\n",
    "- Jubatusにデータを投げるために、pandasで読み込んだデータを**Datum形式**にする必要がある\n",
    "- データと正解ラベルを1セットにしてデータを保持\n",
    "\n",
    "<b>\n",
    "<center>\n",
    "[(正解ラベル, Datum(key, value))]\n",
    "</center></b>"
   ]
  },
  {
   "cell_type": "code",
   "execution_count": null,
   "metadata": {
    "slideshow": {
     "slide_type": "fragment"
    }
   },
   "outputs": [],
   "source": [
    "from jubatus.common import Datum\n",
    "features_train, labels_train, columns = read_dataset('data/default_train.csv')\n",
    "train_data = []\n",
    "for x, y in zip(features_train, labels_train):\n",
    "    d = Datum({key: float(value) for key, value in zip(columns, x)})\n",
    "    train_data.append([str(y), d])"
   ]
  },
  {
   "cell_type": "markdown",
   "metadata": {
    "slideshow": {
     "slide_type": "subslide"
    }
   },
   "source": [
    "## 作成したデータをJubatusサーバに投入"
   ]
  },
  {
   "cell_type": "code",
   "execution_count": null,
   "metadata": {
    "slideshow": {
     "slide_type": "fragment"
    }
   },
   "outputs": [],
   "source": [
    "from jubatus.classifier.client import Classifier\n",
    "client = Classifier('127.0.0.1', 9199, '') # Jubatusサーバのホストとポートを指定する\n",
    "client.clear() #過去の学習結果を一度初期化する(任意)\n",
    "client.train(train_data) # 学習を実行"
   ]
  },
  {
   "cell_type": "markdown",
   "metadata": {
    "slideshow": {
     "slide_type": "slide"
    }
   },
   "source": [
    "## モデルを用いて分類/評価をする\n",
    "- 作った学習モデルを使って、実際に分類をしてみる\n",
    "- `data/default_test.csv`を用いる\n",
    "\n",
    "※実際の評価の際は、Cross Validationなどを用いて評価を行うと良いでしょう。\n"
   ]
  },
  {
   "cell_type": "code",
   "execution_count": null,
   "metadata": {
    "slideshow": {
     "slide_type": "fragment"
    }
   },
   "outputs": [],
   "source": [
    "# テスト用Datumリストを作る\n",
    "features_test, labels_test, columns = read_dataset('data/default_test.csv')\n",
    "test_data = []\n",
    "for x, y in zip(features_test, labels_test):\n",
    "    d = Datum({key: float(value) for key, value in zip(columns, x)})\n",
    "    test_data.append(d)"
   ]
  },
  {
   "cell_type": "markdown",
   "metadata": {
    "slideshow": {
     "slide_type": "subslide"
    }
   },
   "source": [
    "## テストをする\n",
    "実際にJubaclassifierにデータを投入し、返ってくるラベルを見る"
   ]
  },
  {
   "cell_type": "code",
   "execution_count": null,
   "metadata": {
    "slideshow": {
     "slide_type": "fragment"
    }
   },
   "outputs": [],
   "source": [
    "# テストをする\n",
    "results = client.classify(test_data)"
   ]
  },
  {
   "cell_type": "markdown",
   "metadata": {
    "slideshow": {
     "slide_type": "fragment"
    }
   },
   "source": [
    "Jubatusがdefaultに対してyes/no どちらが可能性が高いかをスコアリングしてくれている"
   ]
  },
  {
   "cell_type": "code",
   "execution_count": null,
   "metadata": {
    "slideshow": {
     "slide_type": "fragment"
    }
   },
   "outputs": [],
   "source": [
    "print(results[0])"
   ]
  },
  {
   "cell_type": "markdown",
   "metadata": {
    "slideshow": {
     "slide_type": "slide"
    }
   },
   "source": [
    "## 結果の分析\n",
    "- 先ほどのスコアの大きい方を分類結果として返す`get_most_likely`関数を作る"
   ]
  },
  {
   "cell_type": "code",
   "execution_count": null,
   "metadata": {
    "slideshow": {
     "slide_type": "fragment"
    }
   },
   "outputs": [],
   "source": [
    "# 結果を分析する(スコアの大きい方のラベルを選ぶだけ)\n",
    "def get_most_likely(result):\n",
    "    return max(result, key = lambda x: x.score).label"
   ]
  },
  {
   "cell_type": "markdown",
   "metadata": {
    "slideshow": {
     "slide_type": "subslide"
    }
   },
   "source": [
    "### 分類結果の評価指標\n",
    "- 分類結果は、  \n",
    "**正例か負例か**という観点と、  \n",
    "**答えが合ってたかどうか**という観点で４種類に分けられる\n",
    "- 実際のデータが...\n",
    "    - Defaultしている : 正例(**Positive**)\n",
    "    - Defaultしていない : 負例(**Negative**)\n",
    "- 推定結果が...\n",
    "    - 正しい : **True**\n",
    "    - 間違ってる : **False**\n",
    "    "
   ]
  },
  {
   "cell_type": "markdown",
   "metadata": {
    "slideshow": {
     "slide_type": "subslide"
    }
   },
   "source": [
    "### 混合行列(Confusion Matrix)\n",
    "この4種類を一つの表にまとめたもの\n",
    "\n",
    "<center>\n",
    "    <img src=\"img/matrix.png\">\n",
    "<center>\n"
   ]
  },
  {
   "cell_type": "markdown",
   "metadata": {
    "slideshow": {
     "slide_type": "subslide"
    }
   },
   "source": [
    "### 精度の評価指標\n",
    "一口に『精度』と言っても、実はいろいろある\n",
    "\n",
    "<center>\n",
    "    <img src=\"img/metrics.png\">\n",
    "</center>\n",
    "\n",
    "目的に応じて、見るべき指標は変わる"
   ]
  },
  {
   "cell_type": "code",
   "execution_count": null,
   "metadata": {
    "slideshow": {
     "slide_type": "subslide"
    }
   },
   "outputs": [],
   "source": [
    "def analyze_results(labels, results, pos_label=\"1\", neg_label=\"0\"):\n",
    "    tp, fp, tn, fn = 0, 0, 0, 0\n",
    "    for label, result in zip(labels, results):\n",
    "        estimated = get_most_likely(result)\n",
    "        label = str(label)\n",
    "        estimated = str(estimated)\n",
    "        if label == pos_label and label == estimated:\n",
    "            tp += 1\n",
    "        elif label == pos_label and label != estimated:\n",
    "            fn += 1\n",
    "        elif labels != pos_label and label == estimated:\n",
    "            tn += 1\n",
    "        else:\n",
    "            fp += 1\n",
    "    accuracy = float(tp + tn) / float(tp + tn + fp + fn)\n",
    "    precision = float(tp) / float(tp + fp) \n",
    "    recall = float(tp) / float(tp + fn)\n",
    "    f_value = 2.0 * recall * precision / (recall + precision)\n",
    "    # confusion matrix\n",
    "    confusion = pd.DataFrame([[tp, fp], [fn, tn]], index=[pos_label, neg_label], columns=[pos_label, neg_label])\n",
    "    return confusion, accuracy, precision, recall, f_value"
   ]
  },
  {
   "cell_type": "code",
   "execution_count": null,
   "metadata": {
    "slideshow": {
     "slide_type": "subslide"
    }
   },
   "outputs": [],
   "source": [
    "confusion, accuracy, precision, recall, f_value = analyze_results(labels_test, results)\n",
    "print('confusion matrix\\n{0}\\n'.format(confusion))\n",
    "print('metric    : score')\n",
    "print('accuracy  : {0:.3f}'.format(accuracy))\n",
    "print('precision : {0:.3f}'.format(precision))\n",
    "print('recall    : {0:.3f}'.format(recall))\n",
    "print('f_value   : {0:.3f}'.format(f_value))"
   ]
  },
  {
   "cell_type": "markdown",
   "metadata": {
    "slideshow": {
     "slide_type": "slide"
    }
   },
   "source": [
    "### Recallが低い問題\n",
    "- Accuracyが高いにも関わらず、**Recallが低い**\n",
    "- Recall : **Defaultする人に対し、Defaultしたと予測できているか**\n",
    "    - これが低い => Defaultするはずの人を捉えられていない => リスク管理できない！\n",
    "\n",
    "<center>\n",
    "    <img src=\"img/metrics.png\">\n",
    "</center>\n"
   ]
  },
  {
   "cell_type": "markdown",
   "metadata": {
    "slideshow": {
     "slide_type": "slide"
    }
   },
   "source": [
    "### Recallを上げるために => アンダーサンプリング"
   ]
  },
  {
   "cell_type": "code",
   "execution_count": null,
   "metadata": {
    "slideshow": {
     "slide_type": "fragment"
    }
   },
   "outputs": [],
   "source": [
    "print(df[df[\"Y\"]==0].shape)\n",
    "print(df[df[\"Y\"]==1].shape)"
   ]
  },
  {
   "cell_type": "markdown",
   "metadata": {
    "slideshow": {
     "slide_type": "fragment"
    }
   },
   "source": [
    "- 現状\n",
    "    - 正例(defaultした) : 5577件\n",
    "    - 負例(defaultしていない) : 19421件\n",
    "- **負例に引きずられて、分類がうまくいっていない可能性あり**\n"
   ]
  },
  {
   "cell_type": "code",
   "execution_count": null,
   "metadata": {
    "slideshow": {
     "slide_type": "subslide"
    }
   },
   "outputs": [],
   "source": [
    "import random\n",
    "random.seed(42) # シードで乱数を固定(再現性を得たい場合に実行)\n",
    "def under_sampling(features, labels, reduce_label, reduce_rate=0.2):\n",
    "    sampled_features, sampled_labels = [], []\n",
    "    for feature, label in zip(features, labels):\n",
    "        label = str(label)\n",
    "        if label != reduce_label or random.random() < reduce_rate:\n",
    "            sampled_features.append(feature)\n",
    "            sampled_labels.append(label)\n",
    "    return sampled_features, sampled_labels"
   ]
  },
  {
   "cell_type": "code",
   "execution_count": null,
   "metadata": {
    "slideshow": {
     "slide_type": "subslide"
    }
   },
   "outputs": [],
   "source": [
    "# アンダーサンプリング\n",
    "reduce_rate = 0.2\n",
    "sampled_features_train, sampled_labels_train = under_sampling(features_train, labels_train, reduce_label=\"0\",reduce_rate=reduce_rate)\n",
    "# 学習用Datumリストを作る\n",
    "sampled_train_data = []\n",
    "for x, y in zip(sampled_features_train, sampled_labels_train):\n",
    "    d = Datum({key: float(value) for key, value in zip(columns, x)})\n",
    "    sampled_train_data.append([str(y), d])\n",
    "# 学習をする\n",
    "client = Classifier('127.0.0.1', 9199, '')\n",
    "client.clear()\n",
    "client.train(sampled_train_data)\n",
    "# テストをする\n",
    "results = client.classify(test_data)\n"
   ]
  },
  {
   "cell_type": "code",
   "execution_count": null,
   "metadata": {
    "slideshow": {
     "slide_type": "subslide"
    }
   },
   "outputs": [],
   "source": [
    "# 結果を分析する\n",
    "confusion, accuracy, precision, recall, f_value = analyze_results(labels_test, results)\n",
    "print('confusion matrix\\n{0}\\n'.format(confusion))\n",
    "print('metric    : score')\n",
    "print('accuracy  : {0:.3f}'.format(accuracy))\n",
    "print('precision : {0:.3f}'.format(precision))\n",
    "print('recall    : {0:.3f}'.format(recall))\n",
    "print('f_value   : {0:.3f}'.format(f_value))"
   ]
  },
  {
   "cell_type": "markdown",
   "metadata": {
    "slideshow": {
     "slide_type": "slide"
    }
   },
   "source": [
    "### PrecisionとRecallのトレードオフ\n",
    "\n",
    "\n",
    "|metric|score<br>normal|score<br>under sampling|\n",
    "|---|---|---|\n",
    "|Accuracy|0.803|0.542|\n",
    "|Precision|**0.568**|**0.276**|\n",
    "|Recall|**0.291**|**0.716**|\n",
    "|f_value|0.385|0.398|\n",
    "\n"
   ]
  },
  {
   "cell_type": "code",
   "execution_count": null,
   "metadata": {
    "slideshow": {
     "slide_type": "subslide"
    }
   },
   "outputs": [],
   "source": [
    "%matplotlib inline\n",
    "import numpy as np\n",
    "import matplotlib.pyplot as plt\n",
    "\n",
    "rs = np.linspace(0,1.0,11)\n",
    "precisions = []\n",
    "recalls = []\n"
   ]
  },
  {
   "cell_type": "code",
   "execution_count": null,
   "metadata": {
    "slideshow": {
     "slide_type": "subslide"
    }
   },
   "outputs": [],
   "source": [
    "for r in rs:\n",
    "    sampled_features_train, sampled_labels_train = under_sampling(features_train, labels_train, reduce_label=\"0\",reduce_rate=r)\n",
    "    # 学習用Datumリストを作る\n",
    "    sampled_train_data = []\n",
    "    for x, y in zip(sampled_features_train, sampled_labels_train):\n",
    "        d = Datum({key: float(value) for key, value in zip(columns, x)})\n",
    "        sampled_train_data.append([str(y), d])\n",
    "    # 学習をする\n",
    "    client = Classifier('127.0.0.1', 9199, '')\n",
    "    client.clear()\n",
    "    client.train(sampled_train_data)\n",
    "    # テストをする\n",
    "    results = client.classify(test_data)\n",
    "    confusion, accuracy, precision, recall, f_value = analyze_results(labels_test, results)\n",
    "    precisions.append(precision)\n",
    "    recalls.append(recall)\n",
    "#     print(confusion)\n",
    "    print(\"rate:{:.1f} precision:{:.2f} recall:{:.2f} accuracy:{:.2f} f-value:{:.2f}\".format(r, precision, recall, accuracy, f_value))"
   ]
  },
  {
   "cell_type": "code",
   "execution_count": null,
   "metadata": {
    "slideshow": {
     "slide_type": "subslide"
    }
   },
   "outputs": [],
   "source": [
    "plt.plot(rs, precisions,\"o-\",alpha=0.5,label=\"precision\")\n",
    "plt.plot(rs,recalls,\"o-\",alpha=0.5,label=\"recall\")\n",
    "plt.xlim(0,1)\n",
    "plt.ylim(0,1)\n",
    "plt.legend()\n",
    "plt.show()"
   ]
  },
  {
   "cell_type": "markdown",
   "metadata": {
    "slideshow": {
     "slide_type": "slide"
    }
   },
   "source": [
    "## 非線形分類器\n",
    "※今回、非線形分類器の実行は割愛\n",
    "<center>\n",
    "    <img src=\"img/linear_nonlinear.png\">\n",
    "</center>"
   ]
  },
  {
   "cell_type": "markdown",
   "metadata": {
    "slideshow": {
     "slide_type": "subslide"
    }
   },
   "source": [
    "### 非線形分類器のパラメータ\n",
    "\n",
    "<center>\n",
    "    <img src=\"img/parameters_nonlinear.png\">\n",
    "</center>"
   ]
  },
  {
   "cell_type": "markdown",
   "metadata": {
    "slideshow": {
     "slide_type": "slide"
    }
   },
   "source": [
    "## まとめ\n",
    "\n",
    "- Jubatusを使って分類をやってみた\n",
    "- 分類の評価指標はたくさんあるので、**目的に合わせて選ぶ**\n",
    "- データをうまく処理することで、線形分類器でも精度を上げることが可能\n",
    " "
   ]
  },
  {
   "cell_type": "markdown",
   "metadata": {
    "slideshow": {
     "slide_type": "slide"
    }
   },
   "source": [
    "# NEXT : Jubakit\n",
    "<center> より簡単に分析が可能に！</center>"
   ]
  }
 ],
 "metadata": {
  "celltoolbar": "Slideshow",
  "kernelspec": {
   "display_name": "Python 3",
   "language": "python",
   "name": "python3"
  },
  "language_info": {
   "codemirror_mode": {
    "name": "ipython",
    "version": 3
   },
   "file_extension": ".py",
   "mimetype": "text/x-python",
   "name": "python",
   "nbconvert_exporter": "python",
   "pygments_lexer": "ipython3",
   "version": "3.5.2"
  }
 },
 "nbformat": 4,
 "nbformat_minor": 2
}
